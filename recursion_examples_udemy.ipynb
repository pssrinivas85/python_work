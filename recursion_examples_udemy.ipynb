{
 "cells": [
  {
   "cell_type": "code",
   "execution_count": 18,
   "metadata": {},
   "outputs": [],
   "source": [
    "#sample example of sankarshan/recursion for understanding how methods are called/invoked#\n",
    "\n",
    "def firstmethod(): \n",
    "    secondmethod()\n",
    "    print(\"This is the first method\")\n",
    "def secondmethod(): \n",
    "    thirddmethod()\n",
    "    print(\"This is the second method\")\n",
    "def thirddmethod(): \n",
    "    fourthmethod()\n",
    "    print(\"This is the Third method\")\n",
    "def fourthmethod(): \n",
    "    print(\"This is the fourth method\")"
   ]
  },
  {
   "cell_type": "code",
   "execution_count": 19,
   "metadata": {},
   "outputs": [
    {
     "name": "stdout",
     "output_type": "stream",
     "text": [
      "This is the fourth method\n",
      "This is the Third method\n",
      "This is the second method\n",
      "This is the first method\n",
      "This is the fourth method\n",
      "This is the Third method\n",
      "This is the second method\n",
      "This is the fourth method\n",
      "This is the Third method\n"
     ]
    }
   ],
   "source": [
    "firstmethod()"
   ]
  },
  {
   "cell_type": "code",
   "execution_count": 65,
   "metadata": {},
   "outputs": [],
   "source": [
    "#reverse a given integer using sankarshan/recursion#\n",
    "\n",
    "def forward(x):\n",
    "    \n",
    "    if len(x) == 0:\n",
    "            \n",
    "            return x             \n",
    "    else:\n",
    "        temp = x[0]   \n",
    "        out= forward(x[1:]) \n",
    "        return out + temp\n"
   ]
  },
  {
   "cell_type": "code",
   "execution_count": 67,
   "metadata": {},
   "outputs": [
    {
     "data": {
      "text/plain": [
       "'ias'"
      ]
     },
     "execution_count": 67,
     "metadata": {},
     "output_type": "execute_result"
    }
   ],
   "source": [
    "forward('sai')"
   ]
  },
  {
   "cell_type": "code",
   "execution_count": 79,
   "metadata": {},
   "outputs": [],
   "source": [
    "#calculate squares of a given number using sankarshan/recursion#\n",
    "\n",
    "def poweroftwo(n):\n",
    "    \n",
    "    if n == 0: \n",
    "        return 0\n",
    "    \n",
    "    else:\n",
    "        powertwoo = n*n\n",
    "        n = n-1\n",
    "        return powertwoo"
   ]
  },
  {
   "cell_type": "code",
   "execution_count": 84,
   "metadata": {},
   "outputs": [
    {
     "data": {
      "text/plain": [
       "225"
      ]
     },
     "execution_count": 84,
     "metadata": {},
     "output_type": "execute_result"
    }
   ],
   "source": [
    "poweroftwo(15)\n"
   ]
  },
  {
   "cell_type": "code",
   "execution_count": 89,
   "metadata": {},
   "outputs": [],
   "source": [
    "#calculate squares of a given number using iteration#\n",
    "\n",
    "def poweroftwoit(n):\n",
    "    \n",
    "    i = 0\n",
    "    power = 1\n",
    "        \n",
    "    while i<n:\n",
    "        powertwoo = n*n\n",
    "        n = n-1\n",
    "        return powertwoo"
   ]
  },
  {
   "cell_type": "code",
   "execution_count": 91,
   "metadata": {},
   "outputs": [
    {
     "data": {
      "text/plain": [
       "9"
      ]
     },
     "execution_count": 91,
     "metadata": {},
     "output_type": "execute_result"
    }
   ],
   "source": [
    "poweroftwoit(3)"
   ]
  }
 ],
 "metadata": {
  "kernelspec": {
   "display_name": "Python 3",
   "language": "python",
   "name": "python3"
  },
  "language_info": {
   "codemirror_mode": {
    "name": "ipython",
    "version": 3
   },
   "file_extension": ".py",
   "mimetype": "text/x-python",
   "name": "python",
   "nbconvert_exporter": "python",
   "pygments_lexer": "ipython3",
   "version": "3.7.0"
  }
 },
 "nbformat": 4,
 "nbformat_minor": 2
}
